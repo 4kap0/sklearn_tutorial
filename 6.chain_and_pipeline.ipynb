{
 "cells": [
  {
   "cell_type": "code",
   "execution_count": null,
   "metadata": {},
   "outputs": [],
   "source": [
    "asdfas"
   ]
  }
 ],
 "metadata": {
  "kernelspec": {
   "display_name": "Python 3",
   "language": "python",
   "name": "python3"
  },
  "language_info": {
   "name": "python",
   "version": "3.9.13"
  },
  "orig_nbformat": 4,
  "vscode": {
   "interpreter": {
    "hash": "4dc1855f3a882711b0dee26691f084124061f971896de124990b66c4c3405d9f"
   }
  }
 },
 "nbformat": 4,
 "nbformat_minor": 2
}
